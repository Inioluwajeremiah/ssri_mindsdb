{
 "cells": [
  {
   "cell_type": "code",
   "execution_count": 1,
   "metadata": {},
   "outputs": [
    {
     "name": "stdout",
     "output_type": "stream",
     "text": [
      "Collecting mindsdb_sdk\n",
      "  Using cached mindsdb_sdk-1.0.5.tar.gz (13 kB)\n",
      "  Preparing metadata (setup.py): started\n",
      "  Preparing metadata (setup.py): finished with status 'done'\n",
      "Requirement already satisfied: requests in c:\\users\\adewa\\anaconda3\\lib\\site-packages (from mindsdb_sdk) (2.28.1)\n",
      "Collecting pandas==1.3.5\n",
      "  Using cached pandas-1.3.5-cp310-cp310-win_amd64.whl (10.2 MB)\n",
      "Collecting mindsdb-sql<0.7.0,>=0.6.7\n",
      "  Using cached mindsdb_sql-0.6.7-py3-none-any.whl (128 kB)\n",
      "Requirement already satisfied: pytz>=2017.3 in c:\\users\\adewa\\anaconda3\\lib\\site-packages (from pandas==1.3.5->mindsdb_sdk) (2022.7)\n",
      "Requirement already satisfied: python-dateutil>=2.7.3 in c:\\users\\adewa\\anaconda3\\lib\\site-packages (from pandas==1.3.5->mindsdb_sdk) (2.8.2)\n",
      "Requirement already satisfied: numpy>=1.21.0 in c:\\users\\adewa\\anaconda3\\lib\\site-packages (from pandas==1.3.5->mindsdb_sdk) (1.23.5)\n",
      "Requirement already satisfied: sqlalchemy<2.0.0,>=1.4.29 in c:\\users\\adewa\\anaconda3\\lib\\site-packages (from mindsdb-sql<0.7.0,>=0.6.7->mindsdb_sdk) (1.4.39)\n",
      "Collecting sly>=0.4\n",
      "  Using cached sly-0.5-py3-none-any.whl (28 kB)\n",
      "Requirement already satisfied: pytest>=5.4.3 in c:\\users\\adewa\\anaconda3\\lib\\site-packages (from mindsdb-sql<0.7.0,>=0.6.7->mindsdb_sdk) (7.1.2)\n",
      "Requirement already satisfied: certifi>=2017.4.17 in c:\\users\\adewa\\anaconda3\\lib\\site-packages (from requests->mindsdb_sdk) (2023.7.22)\n",
      "Requirement already satisfied: urllib3<1.27,>=1.21.1 in c:\\users\\adewa\\anaconda3\\lib\\site-packages (from requests->mindsdb_sdk) (1.26.14)\n",
      "Requirement already satisfied: charset-normalizer<3,>=2 in c:\\users\\adewa\\anaconda3\\lib\\site-packages (from requests->mindsdb_sdk) (2.0.4)\n",
      "Requirement already satisfied: idna<4,>=2.5 in c:\\users\\adewa\\anaconda3\\lib\\site-packages (from requests->mindsdb_sdk) (3.4)\n",
      "Requirement already satisfied: attrs>=19.2.0 in c:\\users\\adewa\\anaconda3\\lib\\site-packages (from pytest>=5.4.3->mindsdb-sql<0.7.0,>=0.6.7->mindsdb_sdk) (21.4.0)\n",
      "Requirement already satisfied: iniconfig in c:\\users\\adewa\\anaconda3\\lib\\site-packages (from pytest>=5.4.3->mindsdb-sql<0.7.0,>=0.6.7->mindsdb_sdk) (1.1.1)\n",
      "Requirement already satisfied: packaging in c:\\users\\adewa\\anaconda3\\lib\\site-packages (from pytest>=5.4.3->mindsdb-sql<0.7.0,>=0.6.7->mindsdb_sdk) (22.0)\n",
      "Requirement already satisfied: pluggy<2.0,>=0.12 in c:\\users\\adewa\\anaconda3\\lib\\site-packages (from pytest>=5.4.3->mindsdb-sql<0.7.0,>=0.6.7->mindsdb_sdk) (1.0.0)\n",
      "Requirement already satisfied: py>=1.8.2 in c:\\users\\adewa\\anaconda3\\lib\\site-packages (from pytest>=5.4.3->mindsdb-sql<0.7.0,>=0.6.7->mindsdb_sdk) (1.11.0)\n",
      "Requirement already satisfied: tomli>=1.0.0 in c:\\users\\adewa\\anaconda3\\lib\\site-packages (from pytest>=5.4.3->mindsdb-sql<0.7.0,>=0.6.7->mindsdb_sdk) (2.0.1)\n",
      "Requirement already satisfied: atomicwrites>=1.0 in c:\\users\\adewa\\anaconda3\\lib\\site-packages (from pytest>=5.4.3->mindsdb-sql<0.7.0,>=0.6.7->mindsdb_sdk) (1.4.0)\n",
      "Requirement already satisfied: colorama in c:\\users\\adewa\\anaconda3\\lib\\site-packages (from pytest>=5.4.3->mindsdb-sql<0.7.0,>=0.6.7->mindsdb_sdk) (0.4.6)\n",
      "Requirement already satisfied: six>=1.5 in c:\\users\\adewa\\anaconda3\\lib\\site-packages (from python-dateutil>=2.7.3->pandas==1.3.5->mindsdb_sdk) (1.16.0)\n",
      "Requirement already satisfied: greenlet!=0.4.17 in c:\\users\\adewa\\anaconda3\\lib\\site-packages (from sqlalchemy<2.0.0,>=1.4.29->mindsdb-sql<0.7.0,>=0.6.7->mindsdb_sdk) (2.0.1)\n",
      "Building wheels for collected packages: mindsdb_sdk\n",
      "  Building wheel for mindsdb_sdk (setup.py): started\n",
      "  Building wheel for mindsdb_sdk (setup.py): finished with status 'done'\n",
      "  Created wheel for mindsdb_sdk: filename=mindsdb_sdk-1.0.5-py3-none-any.whl size=16478 sha256=17fee560cfb409e11e4647fc203619a32d2de0d4206582a31937f154be168718\n",
      "  Stored in directory: c:\\users\\adewa\\appdata\\local\\pip\\cache\\wheels\\36\\e8\\96\\2aa0d3a244aa6f62fa5a9135fb80dde2e85704591df6636108\n",
      "Successfully built mindsdb_sdk\n",
      "Installing collected packages: sly, pandas, mindsdb-sql, mindsdb_sdk\n",
      "  Attempting uninstall: pandas\n",
      "    Found existing installation: pandas 1.5.3\n",
      "    Uninstalling pandas-1.5.3:\n",
      "      Successfully uninstalled pandas-1.5.3\n",
      "Successfully installed mindsdb-sql-0.6.7 mindsdb_sdk-1.0.5 pandas-1.3.5 sly-0.5\n",
      "Note: you may need to restart the kernel to use updated packages.\n"
     ]
    }
   ],
   "source": [
    "pip install mindsdb_sdk"
   ]
  },
  {
   "cell_type": "code",
   "execution_count": 2,
   "metadata": {},
   "outputs": [],
   "source": [
    "import mindsdb_sdk\n",
    "import time\n",
    "import pandas as pd"
   ]
  },
  {
   "cell_type": "code",
   "execution_count": 3,
   "metadata": {},
   "outputs": [],
   "source": [
    "# connects to the default port (47334) on localhost \n",
    "# connects to minds db\n",
    "server = mindsdb_sdk.connect('https://cloud.mindsdb.com', login='adewarainioluwa@gmail.com', password='Malibowe100%')"
   ]
  },
  {
   "cell_type": "code",
   "execution_count": 4,
   "metadata": {},
   "outputs": [],
   "source": [
    "# get project\n",
    "project = server.get_project('ssri_drug_discovery_project')\n",
    "\n",
    "project.drop_model('ssri_model')\n",
    "\n",
    "\n"
   ]
  },
  {
   "cell_type": "code",
   "execution_count": 5,
   "metadata": {},
   "outputs": [
    {
     "name": "stdout",
     "output_type": "stream",
     "text": [
      "First 3 rows of home_rentals:\n",
      "   KRFPC1  KRFPC2  KRFPC3  KRFPC4  KRFPC5  KRFPC6  KRFPC7  KRFPC8  KRFPC9  \\\n",
      "0     4.0     2.0     0.0     0.0     0.0     0.0     0.0     0.0     0.0   \n",
      "1     4.0     2.0     0.0     0.0     0.0     0.0     0.0     0.0     0.0   \n",
      "2     0.0     0.0     0.0     0.0     0.0     0.0     0.0     0.0     0.0   \n",
      "\n",
      "   KRFPC10  ...  KRFPC4852  KRFPC4853  KRFPC4854  KRFPC4855  KRFPC4856  \\\n",
      "0      0.0  ...        0.0        0.0        0.0        0.0        0.0   \n",
      "1      0.0  ...        0.0        0.0        0.0        0.0        0.0   \n",
      "2      0.0  ...        0.0        2.0        0.0        0.0        0.0   \n",
      "\n",
      "   KRFPC4857  KRFPC4858  KRFPC4859  KRFPC4860             0  \n",
      "0        0.0        0.0        0.0        0.0  6.600000e-08  \n",
      "1        0.0        0.0        0.0        0.0  4.000000e-09  \n",
      "2        0.0        0.0        0.0        0.0  1.090000e-07  \n",
      "\n",
      "[3 rows x 4861 columns]\n"
     ]
    }
   ],
   "source": [
    "files_db = server.get_database('files')\n",
    "ssri_table = files_db.get_table('ssri_fingerprint_and_ki')\n",
    "\n",
    "\n",
    "print('First 3 rows of home_rentals:')\n",
    "print(ssri_table.limit(3).fetch())"
   ]
  },
  {
   "cell_type": "code",
   "execution_count": 6,
   "metadata": {},
   "outputs": [
    {
     "name": "stdout",
     "output_type": "stream",
     "text": [
      "Creating ssri_model model\n"
     ]
    }
   ],
   "source": [
    "# get all models\n",
    "model_names = [i.name for i in  project.list_models()]\n",
    "\n",
    "# create a model if it doesn't exist yet\n",
    "if 'ssri_model' in model_names:\n",
    "  print('ssri_model already exists. Returning existing model')\n",
    "  ssri_model = project.get_model('ssri_model')\n",
    "\n",
    "else:\n",
    "  print('Creating ssri_model model')\n",
    "\n",
    " # create model\n",
    "  ssri_model = project.create_model(\n",
    "        name = 'ssri_model',\n",
    "        predict = '0',\n",
    "        query = ssri_table\n",
    "  )"
   ]
  },
  {
   "cell_type": "code",
   "execution_count": 7,
   "metadata": {},
   "outputs": [
    {
     "name": "stdout",
     "output_type": "stream",
     "text": [
      "Created ssri_table successfully:\n",
      "Table(ssri_fingerprint_and_ki)\n"
     ]
    }
   ],
   "source": [
    "print('Created ssri_table successfully:')\n",
    "print(ssri_table)"
   ]
  },
  {
   "cell_type": "code",
   "execution_count": null,
   "metadata": {},
   "outputs": [
    {
     "name": "stdout",
     "output_type": "stream",
     "text": [
      "Waiting for model training to complete...please be patient\n",
      ".........................."
     ]
    }
   ],
   "source": [
    "print('Waiting for model training to complete...please be patient')\n",
    "for i in range(400):\n",
    "  print('.', end='')\n",
    "  time.sleep(0.5)\n",
    "\n",
    "  if ssri_model.get_status() not in ('generating', 'training'):\n",
    "    print('\\nFinished training home_rentals_model:')\n",
    "    break\n"
   ]
  },
  {
   "cell_type": "code",
   "execution_count": null,
   "metadata": {},
   "outputs": [],
   "source": [
    "# get model's details      \n",
    "print(ssri_model.data)\n",
    "\n",
    "if ssri_model.get_status() == 'error':\n",
    "  print('Something went wrong while training:')\n",
    "  print(ssri_model.data['error'])\n",
    "\n",
    "# make predictions\n",
    "ssri_table_limit = ssri_table.limit(3)\n",
    "# make predictions\n",
    "# Get table as a dataframe\n",
    "df = ssri_table.fetch()\n",
    "\n",
    "# Get first 3 rows\n",
    "df = df[:3]\n",
    "\n",
    "print('Making prediction on the first 3 rows of home_rentals table using dataframe:')\n",
    "result = ssri_model.predict(df)\n",
    "\n",
    "pd.to_csv('result.csv', index=False)\n",
    "\n",
    "print(result[df.columns])\n",
    "# print(result[['number_of_rooms', 'number_of_bathrooms', 'rental_price']])\n",
    "\n",
    "\n",
    "\n"
   ]
  },
  {
   "cell_type": "code",
   "execution_count": null,
   "metadata": {},
   "outputs": [],
   "source": []
  },
  {
   "cell_type": "code",
   "execution_count": null,
   "metadata": {},
   "outputs": [],
   "source": []
  }
 ],
 "metadata": {
  "kernelspec": {
   "display_name": "Python 3 (ipykernel)",
   "language": "python",
   "name": "python3"
  },
  "language_info": {
   "codemirror_mode": {
    "name": "ipython",
    "version": 3
   },
   "file_extension": ".py",
   "mimetype": "text/x-python",
   "name": "python",
   "nbconvert_exporter": "python",
   "pygments_lexer": "ipython3",
   "version": "3.10.9"
  }
 },
 "nbformat": 4,
 "nbformat_minor": 2
}
